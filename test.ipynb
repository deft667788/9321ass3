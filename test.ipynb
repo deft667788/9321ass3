{
 "cells": [
  {
   "cell_type": "code",
   "execution_count": 1,
   "metadata": {},
   "outputs": [],
   "source": [
    "import pandas as pd\n",
    "import numpy as np\n",
    "\n",
    "import matplotlib.pylab as plt\n",
    "import seaborn as sns\n",
    "\n",
    "from sklearn.ensemble import IsolationForest\n",
    "from sklearn.preprocessing import LabelEncoder\n",
    "from sklearn.preprocessing import OneHotEncoder"
   ]
  },
  {
   "attachments": {},
   "cell_type": "markdown",
   "metadata": {},
   "source": [
    "# Data Exploration"
   ]
  },
  {
   "cell_type": "code",
   "execution_count": 2,
   "metadata": {},
   "outputs": [],
   "source": [
    "train_data = pd.read_csv(\"train.tsv\",sep='\\t')\n",
    "test_data = pd.read_csv(\"test.tsv\",sep='\\t')"
   ]
  },
  {
   "cell_type": "code",
   "execution_count": 6,
   "metadata": {},
   "outputs": [
    {
     "name": "stdout",
     "output_type": "stream",
     "text": [
      "<class 'pandas.core.frame.DataFrame'>\n",
      "RangeIndex: 150211 entries, 0 to 150210\n",
      "Data columns (total 13 columns):\n",
      " #   Column                                     Non-Null Count   Dtype \n",
      "---  ------                                     --------------   ----- \n",
      " 0   Number_of_Shops_Around_ATM                 150211 non-null  int64 \n",
      " 1   ATM_Zone                                   150211 non-null  object\n",
      " 2   No_of_Other_ATMs_in_1_KM_radius            150211 non-null  int64 \n",
      " 3   Estimated_Number_of_Houses_in_1_KM_Radius  150211 non-null  int64 \n",
      " 4   ATM_Placement                              150211 non-null  object\n",
      " 5   ATM_TYPE                                   150211 non-null  object\n",
      " 6   ATM_Location_TYPE                          150211 non-null  object\n",
      " 7   ATM_looks                                  150211 non-null  object\n",
      " 8   ATM_Attached_to                            150211 non-null  object\n",
      " 9   Average_Wait_Time                          150211 non-null  int64 \n",
      " 10  Day_Type                                   150211 non-null  object\n",
      " 11  rating                                     150211 non-null  int64 \n",
      " 12  revenue                                    150211 non-null  int64 \n",
      "dtypes: int64(6), object(7)\n",
      "memory usage: 14.9+ MB\n"
     ]
    }
   ],
   "source": [
    "# train_data.head()\n",
    "# train_data.describe()\n",
    "train_data.info()\n",
    "# train_data.shape"
   ]
  },
  {
   "cell_type": "code",
   "execution_count": 7,
   "metadata": {},
   "outputs": [
    {
     "name": "stdout",
     "output_type": "stream",
     "text": [
      "<class 'pandas.core.frame.DataFrame'>\n",
      "RangeIndex: 2836 entries, 0 to 2835\n",
      "Data columns (total 13 columns):\n",
      " #   Column                                     Non-Null Count  Dtype \n",
      "---  ------                                     --------------  ----- \n",
      " 0   Number_of_Shops_Around_ATM                 2836 non-null   int64 \n",
      " 1   ATM_Zone                                   2836 non-null   object\n",
      " 2   No_of_Other_ATMs_in_1_KM_radius            2836 non-null   int64 \n",
      " 3   Estimated_Number_of_Houses_in_1_KM_Radius  2836 non-null   int64 \n",
      " 4   ATM_Placement                              2836 non-null   object\n",
      " 5   ATM_TYPE                                   2836 non-null   object\n",
      " 6   ATM_Location_TYPE                          2836 non-null   object\n",
      " 7   ATM_looks                                  2836 non-null   object\n",
      " 8   ATM_Attached_to                            2836 non-null   object\n",
      " 9   Average_Wait_Time                          2836 non-null   int64 \n",
      " 10  Day_Type                                   2836 non-null   object\n",
      " 11  rating                                     2836 non-null   int64 \n",
      " 12  revenue                                    2836 non-null   int64 \n",
      "dtypes: int64(6), object(7)\n",
      "memory usage: 288.2+ KB\n"
     ]
    }
   ],
   "source": [
    "test_data.info()"
   ]
  },
  {
   "attachments": {},
   "cell_type": "markdown",
   "metadata": {},
   "source": [
    "## Feature Type"
   ]
  },
  {
   "cell_type": "code",
   "execution_count": 8,
   "metadata": {},
   "outputs": [
    {
     "data": {
      "text/plain": [
       "array([], dtype=object)"
      ]
     },
     "execution_count": 8,
     "metadata": {},
     "output_type": "execute_result"
    }
   ],
   "source": [
    "train_data.select_dtypes(\"object\")\n",
    "bool_features = train_data[train_data[train_data.columns[train_data.apply(lambda x: len(x.unique())) == 2]].isin([0,1,\"Y\",\"N\"])].dropna(axis=1).columns.values\n",
    "bool_features"
   ]
  },
  {
   "cell_type": "code",
   "execution_count": 9,
   "metadata": {},
   "outputs": [
    {
     "data": {
      "text/plain": [
       "array(['Average_Wait_Time', 'Estimated_Number_of_Houses_in_1_KM_Radius',\n",
       "       'No_of_Other_ATMs_in_1_KM_radius', 'Number_of_Shops_Around_ATM',\n",
       "       'rating', 'revenue'], dtype=object)"
      ]
     },
     "execution_count": 9,
     "metadata": {},
     "output_type": "execute_result"
    }
   ],
   "source": [
    "numerical_features = np.setdiff1d(train_data.select_dtypes(include=[\"int64\",\"float64\"]).columns.values, bool_features)\n",
    "numerical_features"
   ]
  },
  {
   "attachments": {},
   "cell_type": "markdown",
   "metadata": {},
   "source": [
    "## Plot Feature"
   ]
  },
  {
   "cell_type": "code",
   "execution_count": 11,
   "metadata": {},
   "outputs": [
    {
     "data": {
      "text/plain": [
       "<Axes: >"
      ]
     },
     "execution_count": 11,
     "metadata": {},
     "output_type": "execute_result"
    },
    {
     "data": {
      "image/png": "[encoded data removed]",
      "text/plain": [
       "<Figure size 432x288 with 2 Axes>"
      ]
     },
     "metadata": {
      "needs_background": "light"
     },
     "output_type": "display_data"
    }
   ],
   "source": [
    "sns.heatmap(train_data[['Average_Wait_Time', 'Estimated_Number_of_Houses_in_1_KM_Radius',\n",
    "    'No_of_Other_ATMs_in_1_KM_radius', 'Number_of_Shops_Around_ATM',\n",
    "    'rating', 'revenue']].corr(), annot=True)"
   ]
  },
  {
   "attachments": {},
   "cell_type": "markdown",
   "metadata": {},
   "source": [
    "## Plot Target"
   ]
  },
  {
   "cell_type": "code",
   "execution_count": 12,
   "metadata": {},
   "outputs": [
    {
     "data": {
      "image/png": "[encoded data removed]",
      "text/plain": [
       "<Figure size 864x576 with 2 Axes>"
      ]
     },
     "metadata": {
      "needs_background": "light"
     },
     "output_type": "display_data"
    }
   ],
   "source": [
    "fig, ax = plt.subplots(1,2, figsize=(12,8))\n",
    "\n",
    "ax[0] = train_data.rating.value_counts().plot.pie(explode=[0,0,0,0], ax=ax[0], autopct=\"%1.2f%%\")\n",
    "ax[0].set_title(\"Rating Proportion\")\n",
    "\n",
    "ax[1] = sns.countplot(x=\"rating\", data = train_data, palette=\"Set1\")\n",
    "ax[1].set_title(\"Rating Count\")\n",
    "\n",
    "plt.show()"
   ]
  },
  {
   "cell_type": "code",
   "execution_count": 14,
   "metadata": {},
   "outputs": [
    {
     "data": {
      "image/png": "[encoded data removed]",
      "text/plain": [
       "<Figure size 1296x576 with 1 Axes>"
      ]
     },
     "metadata": {
      "needs_background": "light"
     },
     "output_type": "display_data"
    }
   ],
   "source": [
    "x = np.log(train_data.revenue)\n",
    "fig, ax = plt.subplots(figsize=(18,8))\n",
    "ax = sns.histplot(x, bins=100, color=\"b\")\n",
    "plt.show()"
   ]
  },
  {
   "attachments": {},
   "cell_type": "markdown",
   "metadata": {},
   "source": [
    "# Outlier Plot"
   ]
  },
  {
   "cell_type": "code",
   "execution_count": 15,
   "metadata": {},
   "outputs": [
    {
     "data": {
      "text/plain": [
       "<Axes: >"
      ]
     },
     "execution_count": 15,
     "metadata": {},
     "output_type": "execute_result"
    },
    {
     "data": {
      "image/png": "[encoded data removed]",
      "text/plain": [
       "<Figure size 432x288 with 1 Axes>"
      ]
     },
     "metadata": {
      "needs_background": "light"
     },
     "output_type": "display_data"
    }
   ],
   "source": [
    "sns.boxplot(x)"
   ]
  },
  {
   "attachments": {},
   "cell_type": "markdown",
   "metadata": {},
   "source": [
    "# Data Preprocessing"
   ]
  },
  {
   "attachments": {},
   "cell_type": "markdown",
   "metadata": {},
   "source": [
    "## Missing Value"
   ]
  },
  {
   "cell_type": "code",
   "execution_count": 16,
   "metadata": {},
   "outputs": [
    {
     "data": {
      "text/html": [
       "<div>\n",
       "<style scoped>\n",
       "    .dataframe tbody tr th:only-of-type {\n",
       "        vertical-align: middle;\n",
       "    }\n",
       "\n",
       "    .dataframe tbody tr th {\n",
       "        vertical-align: top;\n",
       "    }\n",
       "\n",
       "    .dataframe thead th {\n",
       "        text-align: right;\n",
       "    }\n",
       "</style>\n",
       "<table border=\"1\" class=\"dataframe\">\n",
       "  <thead>\n",
       "    <tr style=\"text-align: right;\">\n",
       "      <th></th>\n",
       "      <th>Total</th>\n",
       "      <th>Percent</th>\n",
       "    </tr>\n",
       "  </thead>\n",
       "  <tbody>\n",
       "    <tr>\n",
       "      <th>Number_of_Shops_Around_ATM</th>\n",
       "      <td>0</td>\n",
       "      <td>0.0</td>\n",
       "    </tr>\n",
       "    <tr>\n",
       "      <th>ATM_Zone</th>\n",
       "      <td>0</td>\n",
       "      <td>0.0</td>\n",
       "    </tr>\n",
       "    <tr>\n",
       "      <th>No_of_Other_ATMs_in_1_KM_radius</th>\n",
       "      <td>0</td>\n",
       "      <td>0.0</td>\n",
       "    </tr>\n",
       "    <tr>\n",
       "      <th>Estimated_Number_of_Houses_in_1_KM_Radius</th>\n",
       "      <td>0</td>\n",
       "      <td>0.0</td>\n",
       "    </tr>\n",
       "    <tr>\n",
       "      <th>ATM_Placement</th>\n",
       "      <td>0</td>\n",
       "      <td>0.0</td>\n",
       "    </tr>\n",
       "    <tr>\n",
       "      <th>ATM_TYPE</th>\n",
       "      <td>0</td>\n",
       "      <td>0.0</td>\n",
       "    </tr>\n",
       "    <tr>\n",
       "      <th>ATM_Location_TYPE</th>\n",
       "      <td>0</td>\n",
       "      <td>0.0</td>\n",
       "    </tr>\n",
       "    <tr>\n",
       "      <th>ATM_looks</th>\n",
       "      <td>0</td>\n",
       "      <td>0.0</td>\n",
       "    </tr>\n",
       "    <tr>\n",
       "      <th>ATM_Attached_to</th>\n",
       "      <td>0</td>\n",
       "      <td>0.0</td>\n",
       "    </tr>\n",
       "    <tr>\n",
       "      <th>Average_Wait_Time</th>\n",
       "      <td>0</td>\n",
       "      <td>0.0</td>\n",
       "    </tr>\n",
       "    <tr>\n",
       "      <th>Day_Type</th>\n",
       "      <td>0</td>\n",
       "      <td>0.0</td>\n",
       "    </tr>\n",
       "    <tr>\n",
       "      <th>rating</th>\n",
       "      <td>0</td>\n",
       "      <td>0.0</td>\n",
       "    </tr>\n",
       "    <tr>\n",
       "      <th>revenue</th>\n",
       "      <td>0</td>\n",
       "      <td>0.0</td>\n",
       "    </tr>\n",
       "  </tbody>\n",
       "</table>\n",
       "</div>"
      ],
      "text/plain": [
       "                                           Total  Percent\n",
       "Number_of_Shops_Around_ATM                     0      0.0\n",
       "ATM_Zone                                       0      0.0\n",
       "No_of_Other_ATMs_in_1_KM_radius                0      0.0\n",
       "Estimated_Number_of_Houses_in_1_KM_Radius      0      0.0\n",
       "ATM_Placement                                  0      0.0\n",
       "ATM_TYPE                                       0      0.0\n",
       "ATM_Location_TYPE                              0      0.0\n",
       "ATM_looks                                      0      0.0\n",
       "ATM_Attached_to                                0      0.0\n",
       "Average_Wait_Time                              0      0.0\n",
       "Day_Type                                       0      0.0\n",
       "rating                                         0      0.0\n",
       "revenue                                        0      0.0"
      ]
     },
     "execution_count": 16,
     "metadata": {},
     "output_type": "execute_result"
    }
   ],
   "source": [
    "total = train_data.isnull().sum().sort_values(ascending=False)\n",
    "percent = train_data.isnull().sum()/ train_data.isnull().count().sort_values(ascending=False)\n",
    "missing = pd.concat([total,percent], axis=1, keys=[\"Total\", \"Percent\"])\n",
    "new_data = train_data[missing[missing.Percent < 0.05].index]\n",
    "new_data = new_data.dropna()\n",
    "missing"
   ]
  },
  {
   "attachments": {},
   "cell_type": "markdown",
   "metadata": {},
   "source": [
    "# Label Encoding"
   ]
  },
  {
   "cell_type": "code",
   "execution_count": 17,
   "metadata": {},
   "outputs": [
    {
     "data": {
      "text/html": [
       "<div>\n",
       "<style scoped>\n",
       "    .dataframe tbody tr th:only-of-type {\n",
       "        vertical-align: middle;\n",
       "    }\n",
       "\n",
       "    .dataframe tbody tr th {\n",
       "        vertical-align: top;\n",
       "    }\n",
       "\n",
       "    .dataframe thead th {\n",
       "        text-align: right;\n",
       "    }\n",
       "</style>\n",
       "<table border=\"1\" class=\"dataframe\">\n",
       "  <thead>\n",
       "    <tr style=\"text-align: right;\">\n",
       "      <th></th>\n",
       "      <th>Number_of_Shops_Around_ATM</th>\n",
       "      <th>ATM_Zone</th>\n",
       "      <th>No_of_Other_ATMs_in_1_KM_radius</th>\n",
       "      <th>Estimated_Number_of_Houses_in_1_KM_Radius</th>\n",
       "      <th>ATM_Placement</th>\n",
       "      <th>ATM_TYPE</th>\n",
       "      <th>ATM_Location_TYPE</th>\n",
       "      <th>ATM_looks</th>\n",
       "      <th>ATM_Attached_to</th>\n",
       "      <th>Average_Wait_Time</th>\n",
       "      <th>Day_Type</th>\n",
       "      <th>rating</th>\n",
       "      <th>revenue</th>\n",
       "    </tr>\n",
       "  </thead>\n",
       "  <tbody>\n",
       "    <tr>\n",
       "      <th>0</th>\n",
       "      <td>66</td>\n",
       "      <td>3</td>\n",
       "      <td>65</td>\n",
       "      <td>8450</td>\n",
       "      <td>0</td>\n",
       "      <td>3</td>\n",
       "      <td>2</td>\n",
       "      <td>1</td>\n",
       "      <td>0</td>\n",
       "      <td>3</td>\n",
       "      <td>3</td>\n",
       "      <td>4</td>\n",
       "      <td>209500</td>\n",
       "    </tr>\n",
       "    <tr>\n",
       "      <th>1</th>\n",
       "      <td>26</td>\n",
       "      <td>3</td>\n",
       "      <td>80</td>\n",
       "      <td>9600</td>\n",
       "      <td>0</td>\n",
       "      <td>3</td>\n",
       "      <td>2</td>\n",
       "      <td>1</td>\n",
       "      <td>0</td>\n",
       "      <td>3</td>\n",
       "      <td>3</td>\n",
       "      <td>3</td>\n",
       "      <td>184300</td>\n",
       "    </tr>\n",
       "    <tr>\n",
       "      <th>2</th>\n",
       "      <td>65</td>\n",
       "      <td>3</td>\n",
       "      <td>68</td>\n",
       "      <td>11250</td>\n",
       "      <td>0</td>\n",
       "      <td>2</td>\n",
       "      <td>2</td>\n",
       "      <td>1</td>\n",
       "      <td>0</td>\n",
       "      <td>3</td>\n",
       "      <td>3</td>\n",
       "      <td>4</td>\n",
       "      <td>231500</td>\n",
       "    </tr>\n",
       "    <tr>\n",
       "      <th>3</th>\n",
       "      <td>80</td>\n",
       "      <td>3</td>\n",
       "      <td>60</td>\n",
       "      <td>9550</td>\n",
       "      <td>0</td>\n",
       "      <td>2</td>\n",
       "      <td>2</td>\n",
       "      <td>1</td>\n",
       "      <td>0</td>\n",
       "      <td>3</td>\n",
       "      <td>3</td>\n",
       "      <td>4</td>\n",
       "      <td>143600</td>\n",
       "    </tr>\n",
       "    <tr>\n",
       "      <th>4</th>\n",
       "      <td>66</td>\n",
       "      <td>3</td>\n",
       "      <td>84</td>\n",
       "      <td>14260</td>\n",
       "      <td>0</td>\n",
       "      <td>2</td>\n",
       "      <td>2</td>\n",
       "      <td>1</td>\n",
       "      <td>0</td>\n",
       "      <td>4</td>\n",
       "      <td>3</td>\n",
       "      <td>4</td>\n",
       "      <td>255600</td>\n",
       "    </tr>\n",
       "    <tr>\n",
       "      <th>...</th>\n",
       "      <td>...</td>\n",
       "      <td>...</td>\n",
       "      <td>...</td>\n",
       "      <td>...</td>\n",
       "      <td>...</td>\n",
       "      <td>...</td>\n",
       "      <td>...</td>\n",
       "      <td>...</td>\n",
       "      <td>...</td>\n",
       "      <td>...</td>\n",
       "      <td>...</td>\n",
       "      <td>...</td>\n",
       "      <td>...</td>\n",
       "    </tr>\n",
       "    <tr>\n",
       "      <th>150206</th>\n",
       "      <td>30</td>\n",
       "      <td>3</td>\n",
       "      <td>79</td>\n",
       "      <td>9790</td>\n",
       "      <td>0</td>\n",
       "      <td>3</td>\n",
       "      <td>2</td>\n",
       "      <td>1</td>\n",
       "      <td>3</td>\n",
       "      <td>3</td>\n",
       "      <td>3</td>\n",
       "      <td>3</td>\n",
       "      <td>149500</td>\n",
       "    </tr>\n",
       "    <tr>\n",
       "      <th>150207</th>\n",
       "      <td>22</td>\n",
       "      <td>3</td>\n",
       "      <td>65</td>\n",
       "      <td>36500</td>\n",
       "      <td>0</td>\n",
       "      <td>2</td>\n",
       "      <td>0</td>\n",
       "      <td>0</td>\n",
       "      <td>0</td>\n",
       "      <td>4</td>\n",
       "      <td>3</td>\n",
       "      <td>3</td>\n",
       "      <td>197200</td>\n",
       "    </tr>\n",
       "    <tr>\n",
       "      <th>150208</th>\n",
       "      <td>123</td>\n",
       "      <td>3</td>\n",
       "      <td>40</td>\n",
       "      <td>5664</td>\n",
       "      <td>0</td>\n",
       "      <td>2</td>\n",
       "      <td>2</td>\n",
       "      <td>1</td>\n",
       "      <td>0</td>\n",
       "      <td>2</td>\n",
       "      <td>3</td>\n",
       "      <td>5</td>\n",
       "      <td>278700</td>\n",
       "    </tr>\n",
       "    <tr>\n",
       "      <th>150209</th>\n",
       "      <td>64</td>\n",
       "      <td>3</td>\n",
       "      <td>86</td>\n",
       "      <td>11065</td>\n",
       "      <td>0</td>\n",
       "      <td>2</td>\n",
       "      <td>2</td>\n",
       "      <td>1</td>\n",
       "      <td>0</td>\n",
       "      <td>3</td>\n",
       "      <td>3</td>\n",
       "      <td>5</td>\n",
       "      <td>282800</td>\n",
       "    </tr>\n",
       "    <tr>\n",
       "      <th>150210</th>\n",
       "      <td>89</td>\n",
       "      <td>3</td>\n",
       "      <td>76</td>\n",
       "      <td>14112</td>\n",
       "      <td>0</td>\n",
       "      <td>2</td>\n",
       "      <td>2</td>\n",
       "      <td>1</td>\n",
       "      <td>3</td>\n",
       "      <td>3</td>\n",
       "      <td>3</td>\n",
       "      <td>3</td>\n",
       "      <td>184600</td>\n",
       "    </tr>\n",
       "  </tbody>\n",
       "</table>\n",
       "<p>150211 rows × 13 columns</p>\n",
       "</div>"
      ],
      "text/plain": [
       "        Number_of_Shops_Around_ATM  ATM_Zone  No_of_Other_ATMs_in_1_KM_radius  \\\n",
       "0                               66         3                               65   \n",
       "1                               26         3                               80   \n",
       "2                               65         3                               68   \n",
       "3                               80         3                               60   \n",
       "4                               66         3                               84   \n",
       "...                            ...       ...                              ...   \n",
       "150206                          30         3                               79   \n",
       "150207                          22         3                               65   \n",
       "150208                         123         3                               40   \n",
       "150209                          64         3                               86   \n",
       "150210                          89         3                               76   \n",
       "\n",
       "        Estimated_Number_of_Houses_in_1_KM_Radius  ATM_Placement  ATM_TYPE  \\\n",
       "0                                            8450              0         3   \n",
       "1                                            9600              0         3   \n",
       "2                                           11250              0         2   \n",
       "3                                            9550              0         2   \n",
       "4                                           14260              0         2   \n",
       "...                                           ...            ...       ...   \n",
       "150206                                       9790              0         3   \n",
       "150207                                      36500              0         2   \n",
       "150208                                       5664              0         2   \n",
       "150209                                      11065              0         2   \n",
       "150210                                      14112              0         2   \n",
       "\n",
       "        ATM_Location_TYPE  ATM_looks  ATM_Attached_to  Average_Wait_Time  \\\n",
       "0                       2          1                0                  3   \n",
       "1                       2          1                0                  3   \n",
       "2                       2          1                0                  3   \n",
       "3                       2          1                0                  3   \n",
       "4                       2          1                0                  4   \n",
       "...                   ...        ...              ...                ...   \n",
       "150206                  2          1                3                  3   \n",
       "150207                  0          0                0                  4   \n",
       "150208                  2          1                0                  2   \n",
       "150209                  2          1                0                  3   \n",
       "150210                  2          1                3                  3   \n",
       "\n",
       "        Day_Type  rating  revenue  \n",
       "0              3       4   209500  \n",
       "1              3       3   184300  \n",
       "2              3       4   231500  \n",
       "3              3       4   143600  \n",
       "4              3       4   255600  \n",
       "...          ...     ...      ...  \n",
       "150206         3       3   149500  \n",
       "150207         3       3   197200  \n",
       "150208         3       5   278700  \n",
       "150209         3       5   282800  \n",
       "150210         3       3   184600  \n",
       "\n",
       "[150211 rows x 13 columns]"
      ]
     },
     "execution_count": 17,
     "metadata": {},
     "output_type": "execute_result"
    }
   ],
   "source": [
    "from sklearn.preprocessing import LabelEncoder\n",
    "from sklearn.preprocessing import OneHotEncoder\n",
    "le = LabelEncoder()\n",
    "for col in new_data.select_dtypes(\"object\").columns:\n",
    "    new_data[col] = le.fit_transform(new_data[col])\n",
    "\n",
    "new_data"
   ]
  },
  {
   "attachments": {},
   "cell_type": "markdown",
   "metadata": {},
   "source": [
    "## Increase Dimension"
   ]
  },
  {
   "cell_type": "code",
   "execution_count": 18,
   "metadata": {},
   "outputs": [],
   "source": [
    "from sklearn.preprocessing import PolynomialFeatures"
   ]
  },
  {
   "cell_type": "code",
   "execution_count": 19,
   "metadata": {},
   "outputs": [
    {
     "data": {
      "text/plain": [
       "(150211, 105)"
      ]
     },
     "execution_count": 19,
     "metadata": {},
     "output_type": "execute_result"
    }
   ],
   "source": [
    "poly = PolynomialFeatures(\n",
    "    degree=2,\n",
    "    interaction_only=False,\n",
    "    include_bias=True\n",
    ")\n",
    "poly.fit_transform(new_data).shape"
   ]
  },
  {
   "attachments": {},
   "cell_type": "markdown",
   "metadata": {},
   "source": [
    "# Outlier Filter"
   ]
  },
  {
   "cell_type": "code",
   "execution_count": 20,
   "metadata": {},
   "outputs": [],
   "source": [
    "iso = IsolationForest(contamination=0.1)"
   ]
  },
  {
   "cell_type": "code",
   "execution_count": 21,
   "metadata": {},
   "outputs": [],
   "source": [
    "ycap = iso.fit_predict(new_data.values)"
   ]
  },
  {
   "cell_type": "code",
   "execution_count": 22,
   "metadata": {},
   "outputs": [],
   "source": [
    "mask = ycap != -1\n",
    "new_data = new_data[mask]"
   ]
  },
  {
   "cell_type": "code",
   "execution_count": 23,
   "metadata": {},
   "outputs": [
    {
     "data": {
      "text/plain": [
       "((150211, 13), (135248, 13))"
      ]
     },
     "execution_count": 23,
     "metadata": {},
     "output_type": "execute_result"
    }
   ],
   "source": [
    "train_data.shape,new_data.shape"
   ]
  },
  {
   "cell_type": "code",
   "execution_count": 24,
   "metadata": {},
   "outputs": [],
   "source": [
    "def prep(data):\n",
    "    new_data = data.copy()\n",
    "    total = new_data.isnull().sum().sort_values(ascending=False)\n",
    "    percent = new_data.isnull().sum()/ new_data.isnull().count().sort_values(ascending=False)\n",
    "    missing = pd.concat([total,percent], axis=1, keys=[\"Total\", \"Percent\"])\n",
    "    new_data = new_data[missing[missing.Percent<0.05].index]\n",
    "    new_data = new_data.dropna()\n",
    "    le = LabelEncoder()\n",
    "    for col in new_data.select_dtypes(\"object\").columns:\n",
    "        new_data[col] = le.fit_transform(new_data[col])\n",
    "    iso = IsolationForest(contamination=0.1)\n",
    "    ycap = iso.fit_predict(new_data.values)\n",
    "    mask = ycap != -1\n",
    "    new_data = new_data[mask]\n",
    "    return new_data"
   ]
  },
  {
   "cell_type": "code",
   "execution_count": 25,
   "metadata": {},
   "outputs": [],
   "source": [
    "new_data = prep(train_data)"
   ]
  },
  {
   "attachments": {},
   "cell_type": "markdown",
   "metadata": {},
   "source": [
    "# Feature Selection"
   ]
  },
  {
   "cell_type": "code",
   "execution_count": 27,
   "metadata": {},
   "outputs": [],
   "source": [
    "# model\n",
    "from sklearn.feature_selection import SelectKBest, SelectPercentile, SelectFromModel, SequentialFeatureSelector\n",
    "\n",
    "# estimator\n",
    "## regression\n",
    "from sklearn.feature_selection import f_regression, mutual_info_regression, r_regression\n",
    "\n",
    "## classification\n",
    "from sklearn.feature_selection import f_classif, mutual_info_classif, chi2\n",
    "\n",
    "# basic modal\n",
    "from sklearn.ensemble import RandomForestRegressor"
   ]
  },
  {
   "attachments": {},
   "cell_type": "markdown",
   "metadata": {},
   "source": [
    "Filter methods\n",
    "    Basic methods\n",
    "    Univariate methods\n",
    "    Information gain\n",
    "    Fisher score\n",
    "    Correlation Matrix with Heatmap\n",
    "Wrapper methods\n",
    "    Forward selection\n",
    "    Backward elimination\n",
    "    Exhaustive feature selection\n",
    "    Recursive feature elimination\n",
    "    Recursive Feature Elimination\n",
    "    Recursive feature elimination with cross validation\n",
    "Embedded methods\n",
    "    Lasso\n",
    "    Ridge\n",
    "    Tree Importance"
   ]
  },
  {
   "attachments": {},
   "cell_type": "markdown",
   "metadata": {},
   "source": [
    "# Filter\n",
    "\n",
    "1. Basic methods\n",
    "2. Univariate feature selection\n",
    "3. Information gain\n",
    "set of all features -> select the best subset of features -> learn Algorithm -> Performance"
   ]
  },
  {
   "attachments": {},
   "cell_type": "markdown",
   "metadata": {},
   "source": [
    "## Basic methods"
   ]
  },
  {
   "attachments": {},
   "cell_type": "markdown",
   "metadata": {},
   "source": [
    "### Remove constant values"
   ]
  },
  {
   "cell_type": "code",
   "execution_count": 28,
   "metadata": {},
   "outputs": [
    {
     "data": {
      "text/plain": [
       "array([[    66,      3,     65, ...,      3,      4, 209500],\n",
       "       [    26,      3,     80, ...,      3,      3, 184300],\n",
       "       [    65,      3,     68, ...,      3,      4, 231500],\n",
       "       ...,\n",
       "       [   123,      3,     40, ...,      3,      5, 278700],\n",
       "       [    64,      3,     86, ...,      3,      5, 282800],\n",
       "       [    89,      3,     76, ...,      3,      3, 184600]])"
      ]
     },
     "execution_count": 28,
     "metadata": {},
     "output_type": "execute_result"
    }
   ],
   "source": [
    "from sklearn.feature_selection import VarianceThreshold\n",
    "\n",
    "filter = VarianceThreshold(threshold=0)\n",
    "filter.fit_transform(new_data)"
   ]
  },
  {
   "attachments": {},
   "cell_type": "markdown",
   "metadata": {},
   "source": [
    "### Remove quasi-constant features Quasi-constant features are those features that have the same value for the large part of the observations in the dataset. They do not vary much within the dataset and hence, they do not have much information. They will not contribute much to the prediction task. We can remove these features as they do not have much predictive power."
   ]
  },
  {
   "cell_type": "code",
   "execution_count": 29,
   "metadata": {},
   "outputs": [
    {
     "data": {
      "text/plain": [
       "array([[    66,      3,     65, ...,      3,      4, 209500],\n",
       "       [    26,      3,     80, ...,      3,      3, 184300],\n",
       "       [    65,      3,     68, ...,      3,      4, 231500],\n",
       "       ...,\n",
       "       [   123,      3,     40, ...,      3,      5, 278700],\n",
       "       [    64,      3,     86, ...,      3,      5, 282800],\n",
       "       [    89,      3,     76, ...,      3,      3, 184600]])"
      ]
     },
     "execution_count": 29,
     "metadata": {},
     "output_type": "execute_result"
    }
   ],
   "source": [
    "filter = VarianceThreshold(threshold=0.01)\n",
    "filter.fit_transform(new_data)"
   ]
  },
  {
   "cell_type": "code",
   "execution_count": 31,
   "metadata": {},
   "outputs": [],
   "source": [
    "new_data = new_data[new_data.columns[filter.get_support()]]"
   ]
  },
  {
   "cell_type": "code",
   "execution_count": 33,
   "metadata": {},
   "outputs": [],
   "source": [
    "y_clf_train = new_data[\"rating\"]\n",
    "y_reg_train = new_data[\"revenue\"]\n",
    "X_clf_train = new_data.drop(\"rating\",axis=1)\n",
    "X_reg_train = new_data.drop(\"revenue\",axis=1)"
   ]
  },
  {
   "cell_type": "code",
   "execution_count": 34,
   "metadata": {},
   "outputs": [
    {
     "data": {
      "text/html": [
       "<style>#sk-container-id-1 {color: black;background-color: white;}#sk-container-id-1 pre{padding: 0;}#sk-container-id-1 div.sk-toggleable {background-color: white;}#sk-container-id-1 label.sk-toggleable__label {cursor: pointer;display: block;width: 100%;margin-bottom: 0;padding: 0.3em;box-sizing: border-box;text-align: center;}#sk-container-id-1 label.sk-toggleable__label-arrow:before {content: \"▸\";float: left;margin-right: 0.25em;color: #696969;}#sk-container-id-1 label.sk-toggleable__label-arrow:hover:before {color: black;}#sk-container-id-1 div.sk-estimator:hover label.sk-toggleable__label-arrow:before {color: black;}#sk-container-id-1 div.sk-toggleable__content {max-height: 0;max-width: 0;overflow: hidden;text-align: left;background-color: #f0f8ff;}#sk-container-id-1 div.sk-toggleable__content pre {margin: 0.2em;color: black;border-radius: 0.25em;background-color: #f0f8ff;}#sk-container-id-1 input.sk-toggleable__control:checked~div.sk-toggleable__content {max-height: 200px;max-width: 100%;overflow: auto;}#sk-container-id-1 input.sk-toggleable__control:checked~label.sk-toggleable__label-arrow:before {content: \"▾\";}#sk-container-id-1 div.sk-estimator input.sk-toggleable__control:checked~label.sk-toggleable__label {background-color: #d4ebff;}#sk-container-id-1 div.sk-label input.sk-toggleable__control:checked~label.sk-toggleable__label {background-color: #d4ebff;}#sk-container-id-1 input.sk-hidden--visually {border: 0;clip: rect(1px 1px 1px 1px);clip: rect(1px, 1px, 1px, 1px);height: 1px;margin: -1px;overflow: hidden;padding: 0;position: absolute;width: 1px;}#sk-container-id-1 div.sk-estimator {font-family: monospace;background-color: #f0f8ff;border: 1px dotted black;border-radius: 0.25em;box-sizing: border-box;margin-bottom: 0.5em;}#sk-container-id-1 div.sk-estimator:hover {background-color: #d4ebff;}#sk-container-id-1 div.sk-parallel-item::after {content: \"\";width: 100%;border-bottom: 1px solid gray;flex-grow: 1;}#sk-container-id-1 div.sk-label:hover label.sk-toggleable__label {background-color: #d4ebff;}#sk-container-id-1 div.sk-serial::before {content: \"\";position: absolute;border-left: 1px solid gray;box-sizing: border-box;top: 0;bottom: 0;left: 50%;z-index: 0;}#sk-container-id-1 div.sk-serial {display: flex;flex-direction: column;align-items: center;background-color: white;padding-right: 0.2em;padding-left: 0.2em;position: relative;}#sk-container-id-1 div.sk-item {position: relative;z-index: 1;}#sk-container-id-1 div.sk-parallel {display: flex;align-items: stretch;justify-content: center;background-color: white;position: relative;}#sk-container-id-1 div.sk-item::before, #sk-container-id-1 div.sk-parallel-item::before {content: \"\";position: absolute;border-left: 1px solid gray;box-sizing: border-box;top: 0;bottom: 0;left: 50%;z-index: -1;}#sk-container-id-1 div.sk-parallel-item {display: flex;flex-direction: column;z-index: 1;position: relative;background-color: white;}#sk-container-id-1 div.sk-parallel-item:first-child::after {align-self: flex-end;width: 50%;}#sk-container-id-1 div.sk-parallel-item:last-child::after {align-self: flex-start;width: 50%;}#sk-container-id-1 div.sk-parallel-item:only-child::after {width: 0;}#sk-container-id-1 div.sk-dashed-wrapped {border: 1px dashed gray;margin: 0 0.4em 0.5em 0.4em;box-sizing: border-box;padding-bottom: 0.4em;background-color: white;}#sk-container-id-1 div.sk-label label {font-family: monospace;font-weight: bold;display: inline-block;line-height: 1.2em;}#sk-container-id-1 div.sk-label-container {text-align: center;}#sk-container-id-1 div.sk-container {/* jupyter's `normalize.less` sets `[hidden] { display: none; }` but bootstrap.min.css set `[hidden] { display: none !important; }` so we also need the `!important` here to be able to override the default hidden behavior on the sphinx rendered scikit-learn.org. See: https://github.com/scikit-learn/scikit-learn/issues/21755 */display: inline-block !important;position: relative;}#sk-container-id-1 div.sk-text-repr-fallback {display: none;}</style><div id=\"sk-container-id-1\" class=\"sk-top-container\"><div class=\"sk-text-repr-fallback\"><pre>SelectKBest(score_func=&lt;function f_regression at 0x180d13370&gt;)</pre><b>In a Jupyter environment, please rerun this cell to show the HTML representation or trust the notebook. <br />On GitHub, the HTML representation is unable to render, please try loading this page with nbviewer.org.</b></div><div class=\"sk-container\" hidden><div class=\"sk-item\"><div class=\"sk-estimator sk-toggleable\"><input class=\"sk-toggleable__control sk-hidden--visually\" id=\"sk-estimator-id-1\" type=\"checkbox\" checked><label for=\"sk-estimator-id-1\" class=\"sk-toggleable__label sk-toggleable__label-arrow\">SelectKBest</label><div class=\"sk-toggleable__content\"><pre>SelectKBest(score_func=&lt;function f_regression at 0x180d13370&gt;)</pre></div></div></div></div></div>"
      ],
      "text/plain": [
       "SelectKBest(score_func=<function f_regression at 0x180d13370>)"
      ]
     },
     "execution_count": 34,
     "metadata": {},
     "output_type": "execute_result"
    }
   ],
   "source": [
    "selector = SelectKBest(f_regression, k=10)\n",
    "selector.fit(X_reg_train, y_reg_train)"
   ]
  },
  {
   "cell_type": "code",
   "execution_count": 35,
   "metadata": {},
   "outputs": [
    {
     "data": {
      "text/html": [
       "<div>\n",
       "<style scoped>\n",
       "    .dataframe tbody tr th:only-of-type {\n",
       "        vertical-align: middle;\n",
       "    }\n",
       "\n",
       "    .dataframe tbody tr th {\n",
       "        vertical-align: top;\n",
       "    }\n",
       "\n",
       "    .dataframe thead th {\n",
       "        text-align: right;\n",
       "    }\n",
       "</style>\n",
       "<table border=\"1\" class=\"dataframe\">\n",
       "  <thead>\n",
       "    <tr style=\"text-align: right;\">\n",
       "      <th></th>\n",
       "      <th>Number_of_Shops_Around_ATM</th>\n",
       "      <th>ATM_Zone</th>\n",
       "      <th>No_of_Other_ATMs_in_1_KM_radius</th>\n",
       "      <th>Estimated_Number_of_Houses_in_1_KM_Radius</th>\n",
       "      <th>ATM_TYPE</th>\n",
       "      <th>ATM_Location_TYPE</th>\n",
       "      <th>ATM_Attached_to</th>\n",
       "      <th>Average_Wait_Time</th>\n",
       "      <th>Day_Type</th>\n",
       "      <th>rating</th>\n",
       "    </tr>\n",
       "  </thead>\n",
       "  <tbody>\n",
       "    <tr>\n",
       "      <th>0</th>\n",
       "      <td>66</td>\n",
       "      <td>3</td>\n",
       "      <td>65</td>\n",
       "      <td>8450</td>\n",
       "      <td>3</td>\n",
       "      <td>2</td>\n",
       "      <td>0</td>\n",
       "      <td>3</td>\n",
       "      <td>3</td>\n",
       "      <td>4</td>\n",
       "    </tr>\n",
       "    <tr>\n",
       "      <th>1</th>\n",
       "      <td>26</td>\n",
       "      <td>3</td>\n",
       "      <td>80</td>\n",
       "      <td>9600</td>\n",
       "      <td>3</td>\n",
       "      <td>2</td>\n",
       "      <td>0</td>\n",
       "      <td>3</td>\n",
       "      <td>3</td>\n",
       "      <td>3</td>\n",
       "    </tr>\n",
       "    <tr>\n",
       "      <th>2</th>\n",
       "      <td>65</td>\n",
       "      <td>3</td>\n",
       "      <td>68</td>\n",
       "      <td>11250</td>\n",
       "      <td>2</td>\n",
       "      <td>2</td>\n",
       "      <td>0</td>\n",
       "      <td>3</td>\n",
       "      <td>3</td>\n",
       "      <td>4</td>\n",
       "    </tr>\n",
       "    <tr>\n",
       "      <th>3</th>\n",
       "      <td>80</td>\n",
       "      <td>3</td>\n",
       "      <td>60</td>\n",
       "      <td>9550</td>\n",
       "      <td>2</td>\n",
       "      <td>2</td>\n",
       "      <td>0</td>\n",
       "      <td>3</td>\n",
       "      <td>3</td>\n",
       "      <td>4</td>\n",
       "    </tr>\n",
       "    <tr>\n",
       "      <th>4</th>\n",
       "      <td>66</td>\n",
       "      <td>3</td>\n",
       "      <td>84</td>\n",
       "      <td>14260</td>\n",
       "      <td>2</td>\n",
       "      <td>2</td>\n",
       "      <td>0</td>\n",
       "      <td>4</td>\n",
       "      <td>3</td>\n",
       "      <td>4</td>\n",
       "    </tr>\n",
       "    <tr>\n",
       "      <th>...</th>\n",
       "      <td>...</td>\n",
       "      <td>...</td>\n",
       "      <td>...</td>\n",
       "      <td>...</td>\n",
       "      <td>...</td>\n",
       "      <td>...</td>\n",
       "      <td>...</td>\n",
       "      <td>...</td>\n",
       "      <td>...</td>\n",
       "      <td>...</td>\n",
       "    </tr>\n",
       "    <tr>\n",
       "      <th>150205</th>\n",
       "      <td>51</td>\n",
       "      <td>4</td>\n",
       "      <td>50</td>\n",
       "      <td>6000</td>\n",
       "      <td>3</td>\n",
       "      <td>2</td>\n",
       "      <td>0</td>\n",
       "      <td>4</td>\n",
       "      <td>3</td>\n",
       "      <td>3</td>\n",
       "    </tr>\n",
       "    <tr>\n",
       "      <th>150206</th>\n",
       "      <td>30</td>\n",
       "      <td>3</td>\n",
       "      <td>79</td>\n",
       "      <td>9790</td>\n",
       "      <td>3</td>\n",
       "      <td>2</td>\n",
       "      <td>3</td>\n",
       "      <td>3</td>\n",
       "      <td>3</td>\n",
       "      <td>3</td>\n",
       "    </tr>\n",
       "    <tr>\n",
       "      <th>150208</th>\n",
       "      <td>123</td>\n",
       "      <td>3</td>\n",
       "      <td>40</td>\n",
       "      <td>5664</td>\n",
       "      <td>2</td>\n",
       "      <td>2</td>\n",
       "      <td>0</td>\n",
       "      <td>2</td>\n",
       "      <td>3</td>\n",
       "      <td>5</td>\n",
       "    </tr>\n",
       "    <tr>\n",
       "      <th>150209</th>\n",
       "      <td>64</td>\n",
       "      <td>3</td>\n",
       "      <td>86</td>\n",
       "      <td>11065</td>\n",
       "      <td>2</td>\n",
       "      <td>2</td>\n",
       "      <td>0</td>\n",
       "      <td>3</td>\n",
       "      <td>3</td>\n",
       "      <td>5</td>\n",
       "    </tr>\n",
       "    <tr>\n",
       "      <th>150210</th>\n",
       "      <td>89</td>\n",
       "      <td>3</td>\n",
       "      <td>76</td>\n",
       "      <td>14112</td>\n",
       "      <td>2</td>\n",
       "      <td>2</td>\n",
       "      <td>3</td>\n",
       "      <td>3</td>\n",
       "      <td>3</td>\n",
       "      <td>3</td>\n",
       "    </tr>\n",
       "  </tbody>\n",
       "</table>\n",
       "<p>135203 rows × 10 columns</p>\n",
       "</div>"
      ],
      "text/plain": [
       "        Number_of_Shops_Around_ATM  ATM_Zone  No_of_Other_ATMs_in_1_KM_radius  \\\n",
       "0                               66         3                               65   \n",
       "1                               26         3                               80   \n",
       "2                               65         3                               68   \n",
       "3                               80         3                               60   \n",
       "4                               66         3                               84   \n",
       "...                            ...       ...                              ...   \n",
       "150205                          51         4                               50   \n",
       "150206                          30         3                               79   \n",
       "150208                         123         3                               40   \n",
       "150209                          64         3                               86   \n",
       "150210                          89         3                               76   \n",
       "\n",
       "        Estimated_Number_of_Houses_in_1_KM_Radius  ATM_TYPE  \\\n",
       "0                                            8450         3   \n",
       "1                                            9600         3   \n",
       "2                                           11250         2   \n",
       "3                                            9550         2   \n",
       "4                                           14260         2   \n",
       "...                                           ...       ...   \n",
       "150205                                       6000         3   \n",
       "150206                                       9790         3   \n",
       "150208                                       5664         2   \n",
       "150209                                      11065         2   \n",
       "150210                                      14112         2   \n",
       "\n",
       "        ATM_Location_TYPE  ATM_Attached_to  Average_Wait_Time  Day_Type  \\\n",
       "0                       2                0                  3         3   \n",
       "1                       2                0                  3         3   \n",
       "2                       2                0                  3         3   \n",
       "3                       2                0                  3         3   \n",
       "4                       2                0                  4         3   \n",
       "...                   ...              ...                ...       ...   \n",
       "150205                  2                0                  4         3   \n",
       "150206                  2                3                  3         3   \n",
       "150208                  2                0                  2         3   \n",
       "150209                  2                0                  3         3   \n",
       "150210                  2                3                  3         3   \n",
       "\n",
       "        rating  \n",
       "0            4  \n",
       "1            3  \n",
       "2            4  \n",
       "3            4  \n",
       "4            4  \n",
       "...        ...  \n",
       "150205       3  \n",
       "150206       3  \n",
       "150208       5  \n",
       "150209       5  \n",
       "150210       3  \n",
       "\n",
       "[135203 rows x 10 columns]"
      ]
     },
     "execution_count": 35,
     "metadata": {},
     "output_type": "execute_result"
    }
   ],
   "source": [
    "X_reg_train[X_reg_train.columns[selector.get_support()]]"
   ]
  }
 ],
 "metadata": {
  "kernelspec": {
   "display_name": "opencv-env",
   "language": "python",
   "name": "python3"
  },
  "language_info": {
   "codemirror_mode": {
    "name": "ipython",
    "version": 3
   },
   "file_extension": ".py",
   "mimetype": "text/x-python",
   "name": "python",
   "nbconvert_exporter": "python",
   "pygments_lexer": "ipython3",
   "version": "3.10.4"
  },
  "orig_nbformat": 4
 },
 "nbformat": 4,
 "nbformat_minor": 2
}
